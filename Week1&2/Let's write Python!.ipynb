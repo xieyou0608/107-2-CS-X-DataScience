{
 "cells": [
  {
   "cell_type": "code",
   "execution_count": 2,
   "metadata": {},
   "outputs": [
    {
     "name": "stdout",
     "output_type": "stream",
     "text": [
      "Hello World\n"
     ]
    }
   ],
   "source": [
    "#print\n",
    "print(\"Hello World\")"
   ]
  },
  {
   "cell_type": "code",
   "execution_count": 4,
   "metadata": {},
   "outputs": [
    {
     "name": "stdout",
     "output_type": "stream",
     "text": [
      "The sum is 8\n",
      "number 1 is 7\n",
      "number 1 is 6\n",
      "number 1 is 5\n",
      "number 1 is 4\n",
      "number 1 is 3\n",
      "number 1 is 2\n"
     ]
    }
   ],
   "source": [
    "#input and sum\n",
    "num1 = int(input())\n",
    "num2 = int(input())\n",
    "print(\"The sum is\",num1 + num2)\n",
    "\n",
    "#if and while\n",
    "while num1 > num2:\n",
    "    print(\"number 1 is\",num1)\n",
    "    num1 = num1 - 1"
   ]
  },
  {
   "cell_type": "code",
   "execution_count": 9,
   "metadata": {},
   "outputs": [
    {
     "name": "stdout",
     "output_type": "stream",
     "text": [
      "1 \n",
      "1 2 \n",
      "1 2 3 \n"
     ]
    }
   ],
   "source": [
    "#array, list, function\n",
    "def printList(arr, r):\n",
    "    for i in range(r):\n",
    "        for j in range(i + 1):\n",
    "            print(arr[i][j], end = \" \")\n",
    "        print() #換行\n",
    "        \n",
    "r = 3\n",
    "array = []\n",
    "for i in range(r):\n",
    "    array.append([])\n",
    "    for j in range(i + 1):\n",
    "        array[i].append(j + 1)\n",
    "printList(array, r)"
   ]
  },
  {
   "cell_type": "code",
   "execution_count": 19,
   "metadata": {},
   "outputs": [
    {
     "name": "stdout",
     "output_type": "stream",
     "text": [
      "[1, 2, 3, 4, 5]\n"
     ]
    }
   ],
   "source": [
    "#bubbleSort\n",
    "def bubbleSort(unsorted, sorted, len):\n",
    "    for i in range(len):\n",
    "        sorted[i] = unsorted[i]\n",
    "    for i in range(len - 1, 0, -1):\n",
    "        for j in range(i):\n",
    "            if sorted[j] > sorted[j + 1]:\n",
    "                temp = sorted[j]\n",
    "                sorted[j] = sorted[j + 1]\n",
    "                sorted[j + 1] = temp\n",
    "        \n",
    "unsorted = [2,1,5,4,3]\n",
    "sorted = [0,0,0,0,0]\n",
    "len = 5\n",
    "bubbleSort(unsorted, sorted, len)\n",
    "print(sorted)"
   ]
  },
  {
   "cell_type": "code",
   "execution_count": 24,
   "metadata": {},
   "outputs": [
    {
     "name": "stdout",
     "output_type": "stream",
     "text": [
      "[1, 2, 3, 4, 5]\n"
     ]
    }
   ],
   "source": [
    "#insertionSort\n",
    "def insertionSort(unsorted, sorted, len):\n",
    "    for i in range(len):\n",
    "        sorted[i] = unsorted[i]\n",
    "    for i in range(len):\n",
    "        for j in range(i, 0, -1):\n",
    "            if sorted[j] < sorted[j - 1]:\n",
    "                temp = sorted[j]\n",
    "                sorted[j] = sorted[j - 1]\n",
    "                sorted[j - 1] = temp\n",
    "            else:\n",
    "                break\n",
    "        \n",
    "unsorted = [2,1,5,4,3]\n",
    "sorted = [0,0,0,0,0]\n",
    "len = 5\n",
    "insertionSort(unsorted, sorted, len)\n",
    "print(sorted)"
   ]
  },
  {
   "cell_type": "code",
   "execution_count": 22,
   "metadata": {},
   "outputs": [
    {
     "name": "stdout",
     "output_type": "stream",
     "text": [
      "<class 'int'>\n",
      "<class 'list'>\n",
      "<class 'str'>\n",
      "<class 'float'>\n"
     ]
    }
   ],
   "source": [
    "#dynamic type\n",
    "r = 3 \n",
    "array = [4, 1, 3]\n",
    "print(type(r)) \n",
    "print(type(array))\n",
    "\n",
    "r = \"this is a string\"\n",
    "array = 1.4\n",
    "print(type(r)) \n",
    "print(type(array))"
   ]
  },
  {
   "cell_type": "code",
   "execution_count": null,
   "metadata": {},
   "outputs": [],
   "source": []
  }
 ],
 "metadata": {
  "kernelspec": {
   "display_name": "Python 3",
   "language": "python",
   "name": "python3"
  },
  "language_info": {
   "codemirror_mode": {
    "name": "ipython",
    "version": 3
   },
   "file_extension": ".py",
   "mimetype": "text/x-python",
   "name": "python",
   "nbconvert_exporter": "python",
   "pygments_lexer": "ipython3",
   "version": "3.6.5"
  }
 },
 "nbformat": 4,
 "nbformat_minor": 2
}
