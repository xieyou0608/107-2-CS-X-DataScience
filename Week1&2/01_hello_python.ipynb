{
 "cells": [
  {
   "cell_type": "code",
   "execution_count": 14,
   "metadata": {},
   "outputs": [
    {
     "name": "stdout",
     "output_type": "stream",
     "text": [
      "[1, 'string', 3.1, [5, 6, 10]]\n",
      "1\n",
      "['string', 3.1]\n",
      "['string', 3.1, [5, 6, 10]]\n",
      "10\n",
      "1\n"
     ]
    }
   ],
   "source": [
    "list_data = [1,'string',3.1,[5,6,10]]\n",
    "print (list_data)               # 輸出完整的list\n",
    "print (list_data[0])            # 輸出第一個元素\n",
    "print (list_data[1:3])          # 輸出第二個到第三個個元素 \n",
    "print (list_data[1:])           # 輸出第二個到最後的元素   \n",
    "print(list_data[3][2])\n",
    "index = list_data.index('string')\n",
    "print(index)"
   ]
  },
  {
   "cell_type": "code",
   "execution_count": 15,
   "metadata": {},
   "outputs": [
    {
     "name": "stdout",
     "output_type": "stream",
     "text": [
      "0\n",
      "1\n",
      "2\n",
      "3\n",
      "4\n"
     ]
    }
   ],
   "source": [
    "count = 0\n",
    "while count < 5:\n",
    "    print(count)\n",
    "    count = count +1"
   ]
  },
  {
   "cell_type": "code",
   "execution_count": 16,
   "metadata": {},
   "outputs": [
    {
     "name": "stdout",
     "output_type": "stream",
     "text": [
      "3\n",
      "4\n"
     ]
    }
   ],
   "source": [
    "for i in range(3,5):\n",
    "    print(i)"
   ]
  },
  {
   "cell_type": "code",
   "execution_count": 17,
   "metadata": {},
   "outputs": [
    {
     "name": "stdout",
     "output_type": "stream",
     "text": [
      "3\n",
      "5\n",
      "7\n"
     ]
    }
   ],
   "source": [
    "for i in range(3,9,2):\n",
    "    print(i)"
   ]
  },
  {
   "cell_type": "code",
   "execution_count": 18,
   "metadata": {},
   "outputs": [
    {
     "name": "stdout",
     "output_type": "stream",
     "text": [
      "Call this function!\n"
     ]
    }
   ],
   "source": [
    "def my_first_func():\n",
    "    print('Call this function!')\n",
    "my_first_func()"
   ]
  },
  {
   "cell_type": "code",
   "execution_count": 21,
   "metadata": {},
   "outputs": [
    {
     "name": "stdout",
     "output_type": "stream",
     "text": [
      "guess a number between 1 and 10\n",
      "guess!\n",
      "1\n",
      "too low\n",
      "guess!\n",
      "5\n",
      "too low\n",
      "guess!\n",
      "6\n",
      "too low\n",
      "guess!\n",
      "7\n",
      "good job!\n"
     ]
    }
   ],
   "source": [
    "import random\n",
    "scrnum = random.randint(1, 10)\n",
    "print('guess a number between 1 and 10')\n",
    "for guess_num in range(1, 7):\n",
    "    print(\"guess!\")\n",
    "    guess = int(input())\n",
    "    if guess < scrnum:\n",
    "        print(\"too low\")\n",
    "    elif guess > scrnum:\n",
    "        print(\"too high\")\n",
    "    else:\n",
    "        print('good job!')\n",
    "        break"
   ]
  },
  {
   "cell_type": "code",
   "execution_count": null,
   "metadata": {},
   "outputs": [],
   "source": []
  }
 ],
 "metadata": {
  "kernelspec": {
   "display_name": "Python 3",
   "language": "python",
   "name": "python3"
  },
  "language_info": {
   "codemirror_mode": {
    "name": "ipython",
    "version": 3
   },
   "file_extension": ".py",
   "mimetype": "text/x-python",
   "name": "python",
   "nbconvert_exporter": "python",
   "pygments_lexer": "ipython3",
   "version": "3.6.5"
  }
 },
 "nbformat": 4,
 "nbformat_minor": 2
}
