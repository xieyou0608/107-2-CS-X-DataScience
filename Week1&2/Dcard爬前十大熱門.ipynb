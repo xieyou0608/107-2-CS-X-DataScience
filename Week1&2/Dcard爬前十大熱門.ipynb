{
 "cells": [
  {
   "cell_type": "code",
   "execution_count": 19,
   "metadata": {},
   "outputs": [
    {
     "name": "stdout",
     "output_type": "stream",
     "text": [
      "503\n"
     ]
    }
   ],
   "source": [
    "#透過Python取得該頁資料\n",
    "#使用requests套件的requests.get()方法\n",
    "import requests\n",
    "from bs4 import BeautifulSoup\n",
    "import re\n",
    "\n",
    "url = 'https://www.dcard.tw/f'\n",
    "resp = requests.get(url)\n",
    "print(resp.status_code)\n",
    "#物件的statu_code屬性取得server回覆的狀態碼(200表示正常,404表示找不到網頁)"
   ]
  },
  {
   "cell_type": "code",
   "execution_count": 20,
   "metadata": {
    "scrolled": true
   },
   "outputs": [
    {
     "name": "stdout",
     "output_type": "stream",
     "text": [
      "Dcard 熱門前十文章標題：\n",
      " 1. 📣Dcard 應援團召集中！一起去小巨蛋看UBA～快來支持你的學校🔥\n",
      " 2. 藝人們的婚紗照\n",
      " 3. 感謝李燕(終)\n",
      " 4. 我被鎖在廁所ㄌ\n",
      " 5. 這也太像howhow\n",
      " 6. 朴敘俊 박서준\n",
      " 7. 意外的住院，意外的收穫\n",
      " 8. 謝謝妳一直待在我身邊＃更\n",
      " 9. 我在手術室裡，你和前女友在烏來泡湯\n",
      "10. （更新戰況 送啦！別再去角質和角質互相傷害～全校一起來護角質！想要晶瑩剔透的奇”肌”就靠奇蹟水護角質！\n"
     ]
    }
   ],
   "source": [
    "headers = {'User-Agent': 'Mozilla/5.0 (Windows NT 10.0; Win64; x64)AppleWebKit/537.36 (KHTML, like Gecko) Chrome/70.0.3538.102Safari/537.36'}\n",
    "resp = requests.get(url, headers=headers)\n",
    "           \n",
    "soup = BeautifulSoup(resp.text, 'html.parser')\n",
    "dcard_title = soup.find_all('h3', re.compile('PostEntry_title_'))\n",
    "print('Dcard 熱門前十文章標題：')\n",
    "for index, item in enumerate(dcard_title[:10]):\n",
    "           print(\"{0:2d}. {1}\".format(index + 1, item.text.strip()))"
   ]
  },
  {
   "cell_type": "code",
   "execution_count": null,
   "metadata": {},
   "outputs": [],
   "source": []
  },
  {
   "cell_type": "code",
   "execution_count": null,
   "metadata": {},
   "outputs": [],
   "source": []
  },
  {
   "cell_type": "code",
   "execution_count": null,
   "metadata": {},
   "outputs": [],
   "source": []
  },
  {
   "cell_type": "code",
   "execution_count": null,
   "metadata": {},
   "outputs": [],
   "source": []
  }
 ],
 "metadata": {
  "kernelspec": {
   "display_name": "Python 3",
   "language": "python",
   "name": "python3"
  },
  "language_info": {
   "codemirror_mode": {
    "name": "ipython",
    "version": 3
   },
   "file_extension": ".py",
   "mimetype": "text/x-python",
   "name": "python",
   "nbconvert_exporter": "python",
   "pygments_lexer": "ipython3",
   "version": "3.6.5"
  }
 },
 "nbformat": 4,
 "nbformat_minor": 2
}
