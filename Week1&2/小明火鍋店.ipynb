{
 "cells": [
  {
   "cell_type": "code",
   "execution_count": 20,
   "metadata": {},
   "outputs": [
    {
     "name": "stdout",
     "output_type": "stream",
     "text": [
      "5000,150,200,300,150,3\n",
      "500,1000,1500\n",
      "2,0\n"
     ]
    }
   ],
   "source": [
    "list1 = input().split(\",\")\n",
    "r = input().split(\",\")\n",
    "\n",
    "x = int(list1[0])\n",
    "c1 = int(list1[1])\n",
    "c2 = int(list1[2])\n",
    "c3 = int(list1[3])\n",
    "c4 = int(list1[4])\n",
    "n = int(list1[5])\n",
    "\n",
    "daysCnt = 1\n",
    "while x > 0:\n",
    "    if(daysCnt % 5 == 1):\n",
    "        x = x - c1 - c2\n",
    "    if(daysCnt % 5 == 2):\n",
    "        x = x - c1 - c2 - c3\n",
    "    if(daysCnt % 5 == 3):\n",
    "        x = x - c1 - c2 - c4\n",
    "    if(daysCnt % 5 == 4):\n",
    "        x = x - c1 - c2\n",
    "    if(daysCnt % 5 == 0):\n",
    "        x = x - c1 - c2 - c3\n",
    "        \n",
    "    if(x <= 0):\n",
    "        daysCnt = daysCnt - 1\n",
    "        break\n",
    "    else:\n",
    "        if(daysCnt % 5 == 0):\n",
    "            x = x + int(r[daysCnt // 5 - 1])\n",
    "            \n",
    "        if(daysCnt == n * 5):\n",
    "            break\n",
    "            \n",
    "        daysCnt = daysCnt + 1\n",
    "    \n",
    "        \n",
    "print(daysCnt // 5, end = ',')\n",
    "print(x)"
   ]
  },
  {
   "cell_type": "code",
   "execution_count": 8,
   "metadata": {},
   "outputs": [
    {
     "name": "stdout",
     "output_type": "stream",
     "text": [
      "5\n"
     ]
    }
   ],
   "source": []
  },
  {
   "cell_type": "code",
   "execution_count": null,
   "metadata": {},
   "outputs": [],
   "source": []
  }
 ],
 "metadata": {
  "kernelspec": {
   "display_name": "Python 3",
   "language": "python",
   "name": "python3"
  },
  "language_info": {
   "codemirror_mode": {
    "name": "ipython",
    "version": 3
   },
   "file_extension": ".py",
   "mimetype": "text/x-python",
   "name": "python",
   "nbconvert_exporter": "python",
   "pygments_lexer": "ipython3",
   "version": "3.6.5"
  }
 },
 "nbformat": 4,
 "nbformat_minor": 2
}
