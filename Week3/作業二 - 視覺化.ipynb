{
 "cells": [
  {
   "cell_type": "code",
   "execution_count": 70,
   "metadata": {},
   "outputs": [
    {
     "data": {
      "text/html": [
       "<div>\n",
       "<style scoped>\n",
       "    .dataframe tbody tr th:only-of-type {\n",
       "        vertical-align: middle;\n",
       "    }\n",
       "\n",
       "    .dataframe tbody tr th {\n",
       "        vertical-align: top;\n",
       "    }\n",
       "\n",
       "    .dataframe thead th {\n",
       "        text-align: right;\n",
       "    }\n",
       "</style>\n",
       "<table border=\"1\" class=\"dataframe\">\n",
       "  <thead>\n",
       "    <tr style=\"text-align: right;\">\n",
       "      <th></th>\n",
       "      <th>MemberId</th>\n",
       "      <th>Birthday</th>\n",
       "      <th>GenderTypeDef</th>\n",
       "      <th>RegisterSourceTypeDef</th>\n",
       "      <th>RegisterDateTime</th>\n",
       "      <th>MinOrderDate</th>\n",
       "      <th>OpenCardPresent</th>\n",
       "      <th>LastBirthdayPresentYear</th>\n",
       "      <th>IsInBlackList</th>\n",
       "    </tr>\n",
       "  </thead>\n",
       "  <tbody>\n",
       "    <tr>\n",
       "      <th>0</th>\n",
       "      <td>1587633</td>\n",
       "      <td>NaN</td>\n",
       "      <td>NaN</td>\n",
       "      <td>Web</td>\n",
       "      <td>2016-08-05 19:45:59.670</td>\n",
       "      <td>NaN</td>\n",
       "      <td>0</td>\n",
       "      <td>0</td>\n",
       "      <td>NaN</td>\n",
       "    </tr>\n",
       "    <tr>\n",
       "      <th>1</th>\n",
       "      <td>1587634</td>\n",
       "      <td>NaN</td>\n",
       "      <td>NaN</td>\n",
       "      <td>Web</td>\n",
       "      <td>2016-10-27 21:25:22.907</td>\n",
       "      <td>NaN</td>\n",
       "      <td>0</td>\n",
       "      <td>0</td>\n",
       "      <td>NaN</td>\n",
       "    </tr>\n",
       "    <tr>\n",
       "      <th>2</th>\n",
       "      <td>1587658</td>\n",
       "      <td>NaN</td>\n",
       "      <td>NaN</td>\n",
       "      <td>Web</td>\n",
       "      <td>2015-08-11 19:11:09.030</td>\n",
       "      <td>NaN</td>\n",
       "      <td>0</td>\n",
       "      <td>0</td>\n",
       "      <td>NaN</td>\n",
       "    </tr>\n",
       "    <tr>\n",
       "      <th>3</th>\n",
       "      <td>1587809</td>\n",
       "      <td>NaN</td>\n",
       "      <td>NaN</td>\n",
       "      <td>Web</td>\n",
       "      <td>2015-08-11 19:53:32.397</td>\n",
       "      <td>NaN</td>\n",
       "      <td>0</td>\n",
       "      <td>0</td>\n",
       "      <td>NaN</td>\n",
       "    </tr>\n",
       "    <tr>\n",
       "      <th>4</th>\n",
       "      <td>1587830</td>\n",
       "      <td>NaN</td>\n",
       "      <td>NaN</td>\n",
       "      <td>Web</td>\n",
       "      <td>2017-06-03 17:33:03.987</td>\n",
       "      <td>NaN</td>\n",
       "      <td>0</td>\n",
       "      <td>0</td>\n",
       "      <td>NaN</td>\n",
       "    </tr>\n",
       "  </tbody>\n",
       "</table>\n",
       "</div>"
      ],
      "text/plain": [
       "   MemberId Birthday GenderTypeDef RegisterSourceTypeDef  \\\n",
       "0   1587633      NaN           NaN                   Web   \n",
       "1   1587634      NaN           NaN                   Web   \n",
       "2   1587658      NaN           NaN                   Web   \n",
       "3   1587809      NaN           NaN                   Web   \n",
       "4   1587830      NaN           NaN                   Web   \n",
       "\n",
       "          RegisterDateTime MinOrderDate  OpenCardPresent  \\\n",
       "0  2016-08-05 19:45:59.670          NaN                0   \n",
       "1  2016-10-27 21:25:22.907          NaN                0   \n",
       "2  2015-08-11 19:11:09.030          NaN                0   \n",
       "3  2015-08-11 19:53:32.397          NaN                0   \n",
       "4  2017-06-03 17:33:03.987          NaN                0   \n",
       "\n",
       "   LastBirthdayPresentYear IsInBlackList  \n",
       "0                        0           NaN  \n",
       "1                        0           NaN  \n",
       "2                        0           NaN  \n",
       "3                        0           NaN  \n",
       "4                        0           NaN  "
      ]
     },
     "execution_count": 70,
     "metadata": {},
     "output_type": "execute_result"
    }
   ],
   "source": [
    "import numpy as np\n",
    "import pandas as pd\n",
    "import matplotlib.pyplot as plt\n",
    "\n",
    "#讀入檔案\n",
    "memberData = pd.read_csv('Member.csv', dtype = {'IsInBlackList' : object})\n",
    "memberData.head()"
   ]
  },
  {
   "cell_type": "code",
   "execution_count": 73,
   "metadata": {},
   "outputs": [
    {
     "name": "stdout",
     "output_type": "stream",
     "text": [
      "0    NaN\n",
      "1    NaN\n",
      "2    NaN\n",
      "3    NaN\n",
      "4    NaN\n",
      "Name: GenderTypeDef, dtype: object\n",
      "0    Web\n",
      "1    Web\n",
      "2    Web\n",
      "3    Web\n",
      "4    Web\n",
      "Name: RegisterSourceTypeDef, dtype: object\n"
     ]
    }
   ],
   "source": [
    "#刪除 NAN資料\n",
    "#memberData = memberData.dropna()\n",
    "#選取性別與註冊方式的欄位\n",
    "gender = memberData['GenderTypeDef']\n",
    "print(gender.head())\n",
    "regi = memberData['RegisterSourceTypeDef']\n",
    "print(regi.head())"
   ]
  },
  {
   "cell_type": "markdown",
   "metadata": {},
   "source": [
    "# 觀察男女性使用不同管道註冊管道的差異"
   ]
  },
  {
   "cell_type": "code",
   "execution_count": 96,
   "metadata": {},
   "outputs": [
    {
     "name": "stdout",
     "output_type": "stream",
     "text": [
      "11466\n"
     ]
    },
    {
     "data": {
      "image/png": "[encoded data removed]",
      "text/plain": [
       "<Figure size 432x288 with 1 Axes>"
      ]
     },
     "metadata": {},
     "output_type": "display_data"
    }
   ],
   "source": [
    "#篩選資料\n",
    "isNaN = (memberData['GenderTypeDef'].isnull()) #沒有填性別\n",
    "isMale = (memberData['GenderTypeDef'] == 'Male') #男性\n",
    "isFemale = (memberData['GenderTypeDef'] == 'Female') #女性\n",
    "isWeb = (memberData['RegisterSourceTypeDef'] == 'Web') #使用 Web\n",
    "isIOS = (memberData['RegisterSourceTypeDef'] == 'iOSApp') #使用IOS\n",
    "isAndroid = (memberData['RegisterSourceTypeDef'] == 'AndroidApp') #使用安卓\n",
    "menWeb = memberData[(isMale & isWeb)]\n",
    "menIOS = memberData[(isMale & isIOS)]\n",
    "menAnd = memberData[(isMale & isAndroid)]\n",
    "womenWeb = memberData[(isFemale & isWeb)]\n",
    "womenIOS = memberData[(isFemale & isIOS)]\n",
    "womenAnd = memberData[(isFemale & isAndroid)]\n",
    "nanWeb = memberData[(isNaN & isWeb)]\n",
    "nanIOS = memberData[(isNaN & isIOS)]\n",
    "nanAnd = memberData[(isNaN & isAndroid)\n",
    "                    \n",
    "Men = (menWeb.size, menIOS.size, menAnd.size)\n",
    "Women = (womenWeb.size, womenIOS.size, womenAnd.size)\n",
    "NaN = (nanWeb.size, nanIOS.size, nanAnd.size)\n",
    "                    \n",
    "#製作長條圖\n",
    "col_count = 3\n",
    "bar_width = 0.2\n",
    "index = np.arange(col_count)\n",
    "\n",
    "menBar = plt.bar(index,\n",
    "           Men, \n",
    "           bar_width,\n",
    "           alpha=.4,\n",
    "           label=\"M\") \n",
    "womenBar = plt.bar(index+0.2,\n",
    "            Women,\n",
    "            bar_width,\n",
    "            alpha=.4,\n",
    "            label=\"F\")\n",
    "NanBar = plt.bar(index+0.4,\n",
    "            NaN,\n",
    "            bar_width,\n",
    "            alpha=.4,\n",
    "            label=\"N\")\n",
    "\n",
    "def createLabels(data):\n",
    "    for item in data:\n",
    "        height = item.get_height()\n",
    "        plt.text(\n",
    "            item.get_x()+item.get_width()/2., \n",
    "            height*1.05, \n",
    "            '%d' % int(height),\n",
    "            ha = \"center\",\n",
    "            va = \"bottom\",\n",
    "        )\n",
    "createLabels(menBar)\n",
    "createLabels(womenBar)\n",
    "createLabels(NanBar)\n",
    "\n",
    "plt.ylabel(\"number\")\n",
    "plt.xlabel(\"platform\")\n",
    "plt.title(\"\")\n",
    "plt.xticks(index+.3 / 2 ,(\"Web\",\"iOS\",\"Android\"))\n",
    "plt.legend() \n",
    "plt.grid(True)\n",
    "plt.show()"
   ]
  },
  {
   "cell_type": "markdown",
   "metadata": {},
   "source": [
    "經由上述長條圖發現大部分人其實沒有把基本資料填完 <br />\n",
    "延伸出新的問題 <br />\n",
    "如果電商能掌握客戶的一些特徵 <br />\n",
    "便可以針對每個用戶去設計不同的促銷方案 <br />\n",
    "男性和女性用戶在購物習慣上應有很大的不同 <br />\n",
    "91App也許該在讓用戶完成習慣或基本資料調查上下一點功夫<br />"
   ]
  },
  {
   "cell_type": "code",
   "execution_count": null,
   "metadata": {},
   "outputs": [],
   "source": []
  }
 ],
 "metadata": {
  "kernelspec": {
   "display_name": "Python 3",
   "language": "python",
   "name": "python3"
  },
  "language_info": {
   "codemirror_mode": {
    "name": "ipython",
    "version": 3
   },
   "file_extension": ".py",
   "mimetype": "text/x-python",
   "name": "python",
   "nbconvert_exporter": "python",
   "pygments_lexer": "ipython3",
   "version": "3.6.5"
  }
 },
 "nbformat": 4,
 "nbformat_minor": 2
}
